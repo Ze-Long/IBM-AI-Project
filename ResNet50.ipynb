{
 "cells": [
  {
   "cell_type": "markdown",
   "metadata": {
    "button": false,
    "colab_type": "text",
    "id": "akrBiqnLdkMY",
    "new_sheet": false,
    "run_control": {
     "read_only": false
    }
   },
   "source": [
    "## Introduction\n"
   ]
  },
  {
   "cell_type": "markdown",
   "metadata": {
    "button": false,
    "colab_type": "text",
    "id": "I-B6Q7izdkMZ",
    "new_sheet": false,
    "run_control": {
     "read_only": false
    }
   },
   "source": [
    "Leverage pre-trained model (ResNet50) to build image classifiers."
   ]
  },
  {
   "cell_type": "markdown",
   "metadata": {
    "button": false,
    "colab_type": "text",
    "id": "E5BEoIkTdkMb",
    "new_sheet": false,
    "run_control": {
     "read_only": false
    }
   },
   "source": [
    "<a id='item31'></a>"
   ]
  },
  {
   "cell_type": "markdown",
   "metadata": {
    "button": false,
    "colab_type": "text",
    "id": "u15Br11idkMc",
    "new_sheet": false,
    "run_control": {
     "read_only": false
    }
   },
   "source": [
    "## Import Libraries and Packages"
   ]
  },
  {
   "cell_type": "code",
   "execution_count": 1,
   "metadata": {
    "button": false,
    "colab": {
     "base_uri": "https://localhost:8080/",
     "height": 79
    },
    "colab_type": "code",
    "id": "HdofFuFvdkMe",
    "new_sheet": false,
    "outputId": "ccaf5031-4b72-4282-bd53-80355ee8197f",
    "run_control": {
     "read_only": false
    }
   },
   "outputs": [
    {
     "name": "stderr",
     "output_type": "stream",
     "text": [
      "Using TensorFlow backend.\n"
     ]
    },
    {
     "data": {
      "text/html": [
       "<p style=\"color: red;\">\n",
       "The default version of TensorFlow in Colab will soon switch to TensorFlow 2.x.<br>\n",
       "We recommend you <a href=\"https://www.tensorflow.org/guide/migrate\" target=\"_blank\">upgrade</a> now \n",
       "or ensure your notebook will continue to use TensorFlow 1.x via the <code>%tensorflow_version 1.x</code> magic:\n",
       "<a href=\"https://colab.research.google.com/notebooks/tensorflow_version.ipynb\" target=\"_blank\">more info</a>.</p>\n"
      ],
      "text/plain": [
       "<IPython.core.display.HTML object>"
      ]
     },
     "metadata": {
      "tags": []
     },
     "output_type": "display_data"
    }
   ],
   "source": [
    "from keras.preprocessing.image import ImageDataGenerator"
   ]
  },
  {
   "cell_type": "code",
   "execution_count": 0,
   "metadata": {
    "button": false,
    "colab": {},
    "colab_type": "code",
    "id": "gRAYDD-UdkMj",
    "new_sheet": false,
    "run_control": {
     "read_only": false
    }
   },
   "outputs": [],
   "source": [
    "import keras\n",
    "from keras.models import Sequential\n",
    "from keras.layers import Dense"
   ]
  },
  {
   "cell_type": "code",
   "execution_count": 0,
   "metadata": {
    "button": false,
    "colab": {},
    "colab_type": "code",
    "id": "a9ntEIMVdkMm",
    "new_sheet": false,
    "run_control": {
     "read_only": false
    }
   },
   "outputs": [],
   "source": [
    "from keras.applications import ResNet50\n",
    "from keras.applications.resnet50 import preprocess_input"
   ]
  },
  {
   "cell_type": "markdown",
   "metadata": {
    "button": false,
    "colab_type": "text",
    "id": "0qdbdm18dkMo",
    "new_sheet": false,
    "run_control": {
     "read_only": false
    }
   },
   "source": [
    "<a id='item32'></a>"
   ]
  },
  {
   "cell_type": "markdown",
   "metadata": {
    "button": false,
    "colab_type": "text",
    "id": "WKtJrCn3dkMp",
    "new_sheet": false,
    "run_control": {
     "read_only": false
    }
   },
   "source": [
    "## Download Data"
   ]
  },
  {
   "cell_type": "code",
   "execution_count": 4,
   "metadata": {
    "button": false,
    "colab": {
     "base_uri": "https://localhost:8080/",
     "height": 202
    },
    "colab_type": "code",
    "id": "DL7FMkOxdkMr",
    "new_sheet": false,
    "outputId": "b7c85f52-49fd-493b-d862-2af7093d9822",
    "run_control": {
     "read_only": false
    }
   },
   "outputs": [
    {
     "name": "stdout",
     "output_type": "stream",
     "text": [
      "--2020-03-07 19:36:11--  https://s3-api.us-geo.objectstorage.softlayer.net/cf-courses-data/CognitiveClass/DL0321EN/data/concrete_data_week3.zip\n",
      "Resolving s3-api.us-geo.objectstorage.softlayer.net (s3-api.us-geo.objectstorage.softlayer.net)... 67.228.254.196\n",
      "Connecting to s3-api.us-geo.objectstorage.softlayer.net (s3-api.us-geo.objectstorage.softlayer.net)|67.228.254.196|:443... connected.\n",
      "HTTP request sent, awaiting response... 200 OK\n",
      "Length: 261482368 (249M) [application/zip]\n",
      "Saving to: ‘concrete_data_week3.zip’\n",
      "\n",
      "concrete_data_week3 100%[===================>] 249.37M  30.6MB/s    in 8.3s    \n",
      "\n",
      "2020-03-07 19:36:20 (30.2 MB/s) - ‘concrete_data_week3.zip’ saved [261482368/261482368]\n",
      "\n"
     ]
    }
   ],
   "source": [
    "## get the data\n",
    "!wget https://s3-api.us-geo.objectstorage.softlayer.net/cf-courses-data/CognitiveClass/DL0321EN/data/concrete_data_week3.zip"
   ]
  },
  {
   "cell_type": "code",
   "execution_count": null,
   "metadata": {},
   "outputs": [],
   "source": [
    "!unzip concrete_data_week3.zip"
   ]
  },
  {
   "cell_type": "markdown",
   "metadata": {
    "button": false,
    "colab_type": "text",
    "id": "V05Xq8RwdkM2",
    "new_sheet": false,
    "run_control": {
     "read_only": false
    }
   },
   "source": [
    "<a id='item33'></a>"
   ]
  },
  {
   "cell_type": "markdown",
   "metadata": {
    "button": false,
    "colab_type": "text",
    "id": "KVRy9EiXdkM3",
    "new_sheet": false,
    "run_control": {
     "read_only": false
    }
   },
   "source": [
    "## Define Global Constants"
   ]
  },
  {
   "cell_type": "code",
   "execution_count": 0,
   "metadata": {
    "button": false,
    "colab": {},
    "colab_type": "code",
    "id": "zbh1YaDWdkM5",
    "new_sheet": false,
    "run_control": {
     "read_only": false
    }
   },
   "outputs": [],
   "source": [
    "num_classes = 2\n",
    "\n",
    "image_resize = 224\n",
    "\n",
    "batch_size_training = 100\n",
    "batch_size_validation = 100"
   ]
  },
  {
   "cell_type": "markdown",
   "metadata": {
    "button": false,
    "colab_type": "text",
    "id": "WZ3_OzaydkM7",
    "new_sheet": false,
    "run_control": {
     "read_only": false
    }
   },
   "source": [
    "<a id='item34'></a>"
   ]
  },
  {
   "cell_type": "markdown",
   "metadata": {
    "button": false,
    "colab_type": "text",
    "id": "v7bFxy_QdkM7",
    "new_sheet": false,
    "run_control": {
     "read_only": false
    }
   },
   "source": [
    "## Construct ImageDataGenerator Instances"
   ]
  },
  {
   "cell_type": "code",
   "execution_count": 0,
   "metadata": {
    "button": false,
    "colab": {},
    "colab_type": "code",
    "id": "KfoL04fZdkM9",
    "new_sheet": false,
    "run_control": {
     "read_only": false
    }
   },
   "outputs": [],
   "source": [
    "data_generator = ImageDataGenerator(\n",
    "    preprocessing_function=preprocess_input,\n",
    ")"
   ]
  },
  {
   "cell_type": "markdown",
   "metadata": {
    "button": false,
    "colab_type": "text",
    "id": "foGoDlYtdkM_",
    "new_sheet": false,
    "run_control": {
     "read_only": false
    }
   },
   "source": [
    "Use the *flow_from_directory* method to get the training images as follows:"
   ]
  },
  {
   "cell_type": "code",
   "execution_count": 8,
   "metadata": {
    "button": false,
    "colab": {
     "base_uri": "https://localhost:8080/",
     "height": 34
    },
    "colab_type": "code",
    "id": "KeXfiuEmdkM_",
    "new_sheet": false,
    "outputId": "49019581-4114-47ad-e950-0a385c8b0e95",
    "run_control": {
     "read_only": false
    }
   },
   "outputs": [
    {
     "name": "stdout",
     "output_type": "stream",
     "text": [
      "Found 30001 images belonging to 2 classes.\n"
     ]
    }
   ],
   "source": [
    "train_generator = data_generator.flow_from_directory(\n",
    "    'concrete_data_week3/train',\n",
    "    target_size=(image_resize, image_resize),\n",
    "    batch_size=batch_size_training,\n",
    "    class_mode='categorical')"
   ]
  },
  {
   "cell_type": "markdown",
   "metadata": {
    "button": false,
    "colab_type": "text",
    "id": "mf4PmiqddkNC",
    "new_sheet": false,
    "run_control": {
     "read_only": false
    }
   },
   "source": [
    "Use the *flow_from_directory* method to get the validation images and assign the result to **validation_generator**."
   ]
  },
  {
   "cell_type": "code",
   "execution_count": 9,
   "metadata": {
    "button": false,
    "colab": {
     "base_uri": "https://localhost:8080/",
     "height": 34
    },
    "colab_type": "code",
    "id": "vk4FLz5KdkND",
    "new_sheet": false,
    "outputId": "02dd6d71-e188-4881-c3e2-ae376076a8bd",
    "run_control": {
     "read_only": false
    }
   },
   "outputs": [
    {
     "name": "stdout",
     "output_type": "stream",
     "text": [
      "Found 10001 images belonging to 2 classes.\n"
     ]
    }
   ],
   "source": [
    "## Type your answer here\n",
    "validation_generator = data_generator.flow_from_directory(\n",
    "    'concrete_data_week3/valid',\n",
    "    target_size=(image_resize, image_resize),\n",
    "    batch_size=batch_size_validation,\n",
    "    class_mode='categorical')\n",
    "\n",
    "\n",
    "\n"
   ]
  },
  {
   "cell_type": "markdown",
   "metadata": {
    "button": false,
    "colab_type": "text",
    "id": "DYzY-eW8dkNG",
    "new_sheet": false,
    "run_control": {
     "read_only": false
    }
   },
   "source": [
    "<a id='item35'></a>"
   ]
  },
  {
   "cell_type": "markdown",
   "metadata": {
    "button": false,
    "colab_type": "text",
    "id": "ayRuLVGrdkNH",
    "new_sheet": false,
    "run_control": {
     "read_only": false
    }
   },
   "source": [
    "## Build, Compile and Fit Model"
   ]
  },
  {
   "cell_type": "code",
   "execution_count": 10,
   "metadata": {
    "button": false,
    "colab": {
     "base_uri": "https://localhost:8080/",
     "height": 70
    },
    "colab_type": "code",
    "id": "-ja9yOhudkNI",
    "new_sheet": false,
    "outputId": "773fe71a-8949-487c-c33d-5f2a16d21c89",
    "run_control": {
     "read_only": false
    }
   },
   "outputs": [
    {
     "name": "stdout",
     "output_type": "stream",
     "text": [
      "WARNING:tensorflow:From /usr/local/lib/python3.6/dist-packages/keras/backend/tensorflow_backend.py:66: The name tf.get_default_graph is deprecated. Please use tf.compat.v1.get_default_graph instead.\n",
      "\n"
     ]
    }
   ],
   "source": [
    "model = Sequential()"
   ]
  },
  {
   "cell_type": "markdown",
   "metadata": {
    "button": false,
    "colab_type": "text",
    "id": "rTfYqaPZdkNL",
    "new_sheet": false,
    "run_control": {
     "read_only": false
    }
   },
   "source": [
    "Add the ResNet50 pre-trained model to out model. We don't want to include the top layer or the output layer of the pre-trained model. We actually want to define our own output layer and train it so that it is optimized for our image dataset. In order to leave out the output layer of the pre-trained model, we will use the argument *include_top* and set it to **False**."
   ]
  },
  {
   "cell_type": "code",
   "execution_count": 11,
   "metadata": {
    "button": false,
    "colab": {
     "base_uri": "https://localhost:8080/",
     "height": 440
    },
    "colab_type": "code",
    "id": "AgJ27QjBdkNL",
    "new_sheet": false,
    "outputId": "8cc0478c-d443-4517-cf91-7d71a8fa9cb7",
    "run_control": {
     "read_only": false
    }
   },
   "outputs": [
    {
     "name": "stdout",
     "output_type": "stream",
     "text": [
      "WARNING:tensorflow:From /usr/local/lib/python3.6/dist-packages/keras/backend/tensorflow_backend.py:541: The name tf.placeholder is deprecated. Please use tf.compat.v1.placeholder instead.\n",
      "\n",
      "WARNING:tensorflow:From /usr/local/lib/python3.6/dist-packages/keras/backend/tensorflow_backend.py:4479: The name tf.truncated_normal is deprecated. Please use tf.random.truncated_normal instead.\n",
      "\n",
      "WARNING:tensorflow:From /usr/local/lib/python3.6/dist-packages/keras/backend/tensorflow_backend.py:190: The name tf.get_default_session is deprecated. Please use tf.compat.v1.get_default_session instead.\n",
      "\n",
      "WARNING:tensorflow:From /usr/local/lib/python3.6/dist-packages/keras/backend/tensorflow_backend.py:197: The name tf.ConfigProto is deprecated. Please use tf.compat.v1.ConfigProto instead.\n",
      "\n",
      "WARNING:tensorflow:From /usr/local/lib/python3.6/dist-packages/keras/backend/tensorflow_backend.py:203: The name tf.Session is deprecated. Please use tf.compat.v1.Session instead.\n",
      "\n",
      "WARNING:tensorflow:From /usr/local/lib/python3.6/dist-packages/keras/backend/tensorflow_backend.py:207: The name tf.global_variables is deprecated. Please use tf.compat.v1.global_variables instead.\n",
      "\n",
      "WARNING:tensorflow:From /usr/local/lib/python3.6/dist-packages/keras/backend/tensorflow_backend.py:216: The name tf.is_variable_initialized is deprecated. Please use tf.compat.v1.is_variable_initialized instead.\n",
      "\n",
      "WARNING:tensorflow:From /usr/local/lib/python3.6/dist-packages/keras/backend/tensorflow_backend.py:223: The name tf.variables_initializer is deprecated. Please use tf.compat.v1.variables_initializer instead.\n",
      "\n",
      "WARNING:tensorflow:From /usr/local/lib/python3.6/dist-packages/keras/backend/tensorflow_backend.py:2041: The name tf.nn.fused_batch_norm is deprecated. Please use tf.compat.v1.nn.fused_batch_norm instead.\n",
      "\n",
      "WARNING:tensorflow:From /usr/local/lib/python3.6/dist-packages/keras/backend/tensorflow_backend.py:148: The name tf.placeholder_with_default is deprecated. Please use tf.compat.v1.placeholder_with_default instead.\n",
      "\n",
      "WARNING:tensorflow:From /usr/local/lib/python3.6/dist-packages/keras/backend/tensorflow_backend.py:4267: The name tf.nn.max_pool is deprecated. Please use tf.nn.max_pool2d instead.\n",
      "\n",
      "Downloading data from https://github.com/fchollet/deep-learning-models/releases/download/v0.2/resnet50_weights_tf_dim_ordering_tf_kernels_notop.h5\n",
      "94658560/94653016 [==============================] - 2s 0us/step\n"
     ]
    }
   ],
   "source": [
    "model.add(ResNet50(\n",
    "    include_top=False,\n",
    "    pooling='avg',\n",
    "    weights='imagenet',\n",
    "    ))"
   ]
  },
  {
   "cell_type": "markdown",
   "metadata": {
    "button": false,
    "colab_type": "text",
    "id": "hEYouQCddkNQ",
    "new_sheet": false,
    "run_control": {
     "read_only": false
    }
   },
   "source": [
    "Define the output layer as a **Dense** layer, that consists of two nodes and uses the **Softmax** function as the activation function."
   ]
  },
  {
   "cell_type": "code",
   "execution_count": 12,
   "metadata": {
    "button": false,
    "colab": {
     "base_uri": "https://localhost:8080/",
     "height": 70
    },
    "colab_type": "code",
    "id": "LlqC05zmdkNR",
    "new_sheet": false,
    "outputId": "9722d93e-9f1d-4f13-82d7-c7152c06a8c5",
    "run_control": {
     "read_only": false
    }
   },
   "outputs": [
    {
     "name": "stdout",
     "output_type": "stream",
     "text": [
      "WARNING:tensorflow:From /usr/local/lib/python3.6/dist-packages/keras/backend/tensorflow_backend.py:4432: The name tf.random_uniform is deprecated. Please use tf.random.uniform instead.\n",
      "\n"
     ]
    }
   ],
   "source": [
    "model.add(Dense(num_classes, activation='softmax'))"
   ]
  },
  {
   "cell_type": "code",
   "execution_count": 13,
   "metadata": {
    "button": false,
    "colab": {
     "base_uri": "https://localhost:8080/",
     "height": 50
    },
    "colab_type": "code",
    "id": "oxcPKBThdkNU",
    "new_sheet": false,
    "outputId": "8a5f2945-ca0e-4c26-f123-2b5d8b353086",
    "run_control": {
     "read_only": false
    }
   },
   "outputs": [
    {
     "data": {
      "text/plain": [
       "[<keras.engine.training.Model at 0x7f8b76aa8898>,\n",
       " <keras.layers.core.Dense at 0x7f8b7656eeb8>]"
      ]
     },
     "execution_count": 13,
     "metadata": {
      "tags": []
     },
     "output_type": "execute_result"
    }
   ],
   "source": [
    "model.layers"
   ]
  },
  {
   "cell_type": "code",
   "execution_count": 14,
   "metadata": {
    "button": false,
    "colab": {
     "base_uri": "https://localhost:8080/",
     "height": 1000
    },
    "colab_type": "code",
    "id": "pq7dQOS8dkNX",
    "new_sheet": false,
    "outputId": "3b3f62df-9e12-470f-eb1c-2d7e19f2ca48",
    "run_control": {
     "read_only": false
    },
    "scrolled": true
   },
   "outputs": [
    {
     "data": {
      "text/plain": [
       "[<keras.engine.input_layer.InputLayer at 0x7f8be18f32e8>,\n",
       " <keras.layers.convolutional.ZeroPadding2D at 0x7f8be18f3ef0>,\n",
       " <keras.layers.convolutional.Conv2D at 0x7f8be18f82b0>,\n",
       " <keras.layers.normalization.BatchNormalization at 0x7f8be18f8940>,\n",
       " <keras.layers.core.Activation at 0x7f8be18f8978>,\n",
       " <keras.layers.convolutional.ZeroPadding2D at 0x7f8bdd519e10>,\n",
       " <keras.layers.pooling.MaxPooling2D at 0x7f8bdd511470>,\n",
       " <keras.layers.convolutional.Conv2D at 0x7f8c33acdeb8>,\n",
       " <keras.layers.normalization.BatchNormalization at 0x7f8bd051c518>,\n",
       " <keras.layers.core.Activation at 0x7f8bd051c4e0>,\n",
       " <keras.layers.convolutional.Conv2D at 0x7f8bd05230b8>,\n",
       " <keras.layers.normalization.BatchNormalization at 0x7f8bd04d9358>,\n",
       " <keras.layers.core.Activation at 0x7f8bd04d9550>,\n",
       " <keras.layers.convolutional.Conv2D at 0x7f8bd04e1eb8>,\n",
       " <keras.layers.convolutional.Conv2D at 0x7f8bd049e358>,\n",
       " <keras.layers.normalization.BatchNormalization at 0x7f8bd049e3c8>,\n",
       " <keras.layers.normalization.BatchNormalization at 0x7f8bd0464320>,\n",
       " <keras.layers.merge.Add at 0x7f8bd0464240>,\n",
       " <keras.layers.core.Activation at 0x7f8bd0480fd0>,\n",
       " <keras.layers.convolutional.Conv2D at 0x7f8bd041c2b0>,\n",
       " <keras.layers.normalization.BatchNormalization at 0x7f8bd0429860>,\n",
       " <keras.layers.core.Activation at 0x7f8bd0432e80>,\n",
       " <keras.layers.convolutional.Conv2D at 0x7f8bd0432f28>,\n",
       " <keras.layers.normalization.BatchNormalization at 0x7f8bd03f3470>,\n",
       " <keras.layers.core.Activation at 0x7f8bd03fccf8>,\n",
       " <keras.layers.convolutional.Conv2D at 0x7f8bd04024e0>,\n",
       " <keras.layers.normalization.BatchNormalization at 0x7f8bd03b84e0>,\n",
       " <keras.layers.merge.Add at 0x7f8bd03c1d68>,\n",
       " <keras.layers.core.Activation at 0x7f8bd0354f98>,\n",
       " <keras.layers.convolutional.Conv2D at 0x7f8bd0370630>,\n",
       " <keras.layers.normalization.BatchNormalization at 0x7f8bd037ef28>,\n",
       " <keras.layers.core.Activation at 0x7f8bd0386f98>,\n",
       " <keras.layers.convolutional.Conv2D at 0x7f8bd031cc88>,\n",
       " <keras.layers.normalization.BatchNormalization at 0x7f8bd033b6d8>,\n",
       " <keras.layers.core.Activation at 0x7f8bd033b668>,\n",
       " <keras.layers.convolutional.Conv2D at 0x7f8bd02c8198>,\n",
       " <keras.layers.normalization.BatchNormalization at 0x7f8bd0301780>,\n",
       " <keras.layers.merge.Add at 0x7f8bd03016a0>,\n",
       " <keras.layers.core.Activation at 0x7f8bd029ec88>,\n",
       " <keras.layers.convolutional.Conv2D at 0x7f8bd02a5da0>,\n",
       " <keras.layers.normalization.BatchNormalization at 0x7f8bd0247eb8>,\n",
       " <keras.layers.core.Activation at 0x7f8bd02505f8>,\n",
       " <keras.layers.convolutional.Conv2D at 0x7f8bd0257240>,\n",
       " <keras.layers.normalization.BatchNormalization at 0x7f8bd0211a20>,\n",
       " <keras.layers.core.Activation at 0x7f8bd02119b0>,\n",
       " <keras.layers.convolutional.Conv2D at 0x7f8bd021c2b0>,\n",
       " <keras.layers.convolutional.Conv2D at 0x7f8bd01d8f60>,\n",
       " <keras.layers.normalization.BatchNormalization at 0x7f8bd01d89e8>,\n",
       " <keras.layers.normalization.BatchNormalization at 0x7f8bd019f9e8>,\n",
       " <keras.layers.merge.Add at 0x7f8bd019fb00>,\n",
       " <keras.layers.core.Activation at 0x7f8bd01bad68>,\n",
       " <keras.layers.convolutional.Conv2D at 0x7f8bd01c1eb8>,\n",
       " <keras.layers.normalization.BatchNormalization at 0x7f8bd0164eb8>,\n",
       " <keras.layers.core.Activation at 0x7f8bd016d710>,\n",
       " <keras.layers.convolutional.Conv2D at 0x7f8bd0173320>,\n",
       " <keras.layers.normalization.BatchNormalization at 0x7f8bd012aa58>,\n",
       " <keras.layers.core.Activation at 0x7f8bd01330f0>,\n",
       " <keras.layers.convolutional.Conv2D at 0x7f8bd0138390>,\n",
       " <keras.layers.normalization.BatchNormalization at 0x7f8bd00efb00>,\n",
       " <keras.layers.merge.Add at 0x7f8bd00fa048>,\n",
       " <keras.layers.core.Activation at 0x7f8bd008f7b8>,\n",
       " <keras.layers.convolutional.Conv2D at 0x7f8bd008ffd0>,\n",
       " <keras.layers.normalization.BatchNormalization at 0x7f8bd00c0630>,\n",
       " <keras.layers.core.Activation at 0x7f8bd00c0a20>,\n",
       " <keras.layers.convolutional.Conv2D at 0x7f8bd00476a0>,\n",
       " <keras.layers.normalization.BatchNormalization at 0x7f8bd007edd8>,\n",
       " <keras.layers.core.Activation at 0x7f8bd0084320>,\n",
       " <keras.layers.convolutional.Conv2D at 0x7f8bd000e710>,\n",
       " <keras.layers.normalization.BatchNormalization at 0x7f8bd0044e48>,\n",
       " <keras.layers.merge.Add at 0x7f8b773eb390>,\n",
       " <keras.layers.core.Activation at 0x7f8b77401b00>,\n",
       " <keras.layers.convolutional.Conv2D at 0x7f8b77401cc0>,\n",
       " <keras.layers.normalization.BatchNormalization at 0x7f8b773afa90>,\n",
       " <keras.layers.core.Activation at 0x7f8b773afda0>,\n",
       " <keras.layers.convolutional.Conv2D at 0x7f8b773bbbe0>,\n",
       " <keras.layers.normalization.BatchNormalization at 0x7f8b773df208>,\n",
       " <keras.layers.core.Activation at 0x7f8b773df198>,\n",
       " <keras.layers.convolutional.Conv2D at 0x7f8b77385c50>,\n",
       " <keras.layers.normalization.BatchNormalization at 0x7f8b77340278>,\n",
       " <keras.layers.merge.Add at 0x7f8b77340208>,\n",
       " <keras.layers.core.Activation at 0x7f8b77357ac8>,\n",
       " <keras.layers.convolutional.Conv2D at 0x7f8b772f93c8>,\n",
       " <keras.layers.normalization.BatchNormalization at 0x7f8b77305dd8>,\n",
       " <keras.layers.core.Activation at 0x7f8b77311e10>,\n",
       " <keras.layers.convolutional.Conv2D at 0x7f8b77317588>,\n",
       " <keras.layers.normalization.BatchNormalization at 0x7f8b772cf550>,\n",
       " <keras.layers.core.Activation at 0x7f8b772d9dd8>,\n",
       " <keras.layers.convolutional.Conv2D at 0x7f8b772df6a0>,\n",
       " <keras.layers.convolutional.Conv2D at 0x7f8b7729ddd8>,\n",
       " <keras.layers.normalization.BatchNormalization at 0x7f8b77295588>,\n",
       " <keras.layers.normalization.BatchNormalization at 0x7f8b7725bc18>,\n",
       " <keras.layers.merge.Add at 0x7f8b7725bd30>,\n",
       " <keras.layers.core.Activation at 0x7f8b771f8668>,\n",
       " <keras.layers.convolutional.Conv2D at 0x7f8b771f8f60>,\n",
       " <keras.layers.normalization.BatchNormalization at 0x7f8b771a9be0>,\n",
       " <keras.layers.core.Activation at 0x7f8b771b0f60>,\n",
       " <keras.layers.convolutional.Conv2D at 0x7f8b771b74e0>,\n",
       " <keras.layers.normalization.BatchNormalization at 0x7f8b7716f4a8>,\n",
       " <keras.layers.core.Activation at 0x7f8b77176dd8>,\n",
       " <keras.layers.convolutional.Conv2D at 0x7f8b7717e550>,\n",
       " <keras.layers.normalization.BatchNormalization at 0x7f8b77134518>,\n",
       " <keras.layers.merge.Add at 0x7f8b7713fe48>,\n",
       " <keras.layers.core.Activation at 0x7f8b77152f60>,\n",
       " <keras.layers.convolutional.Conv2D at 0x7f8b7715ab70>,\n",
       " <keras.layers.normalization.BatchNormalization at 0x7f8b771067b8>,\n",
       " <keras.layers.core.Activation at 0x7f8b77106ac8>,\n",
       " <keras.layers.convolutional.Conv2D at 0x7f8b7710e748>,\n",
       " <keras.layers.normalization.BatchNormalization at 0x7f8b770c5e48>,\n",
       " <keras.layers.core.Activation at 0x7f8b770ce390>,\n",
       " <keras.layers.convolutional.Conv2D at 0x7f8b770d37b8>,\n",
       " <keras.layers.normalization.BatchNormalization at 0x7f8b7708beb8>,\n",
       " <keras.layers.merge.Add at 0x7f8b77093400>,\n",
       " <keras.layers.core.Activation at 0x7f8b77029d30>,\n",
       " <keras.layers.convolutional.Conv2D at 0x7f8b7704d470>,\n",
       " <keras.layers.normalization.BatchNormalization at 0x7f8b77059da0>,\n",
       " <keras.layers.core.Activation at 0x7f8b77062550>,\n",
       " <keras.layers.convolutional.Conv2D at 0x7f8b76fea198>,\n",
       " <keras.layers.normalization.BatchNormalization at 0x7f8b77020978>,\n",
       " <keras.layers.core.Activation at 0x7f8b77020908>,\n",
       " <keras.layers.convolutional.Conv2D at 0x7f8b76fb01d0>,\n",
       " <keras.layers.normalization.BatchNormalization at 0x7f8b76f669e8>,\n",
       " <keras.layers.merge.Add at 0x7f8b76f66978>,\n",
       " <keras.layers.core.Activation at 0x7f8b76f83f98>,\n",
       " <keras.layers.convolutional.Conv2D at 0x7f8b76f89e80>,\n",
       " <keras.layers.normalization.BatchNormalization at 0x7f8b76f33c88>,\n",
       " <keras.layers.core.Activation at 0x7f8b76f33f98>,\n",
       " <keras.layers.convolutional.Conv2D at 0x7f8b76f3def0>,\n",
       " <keras.layers.normalization.BatchNormalization at 0x7f8b76ef9400>,\n",
       " <keras.layers.core.Activation at 0x7f8b76f04f28>,\n",
       " <keras.layers.convolutional.Conv2D at 0x7f8b76f0b4a8>,\n",
       " <keras.layers.normalization.BatchNormalization at 0x7f8b76ec1470>,\n",
       " <keras.layers.merge.Add at 0x7f8b76ecbf98>,\n",
       " <keras.layers.core.Activation at 0x7f8b76eddfd0>,\n",
       " <keras.layers.convolutional.Conv2D at 0x7f8b76e65a90>,\n",
       " <keras.layers.normalization.BatchNormalization at 0x7f8b76e93710>,\n",
       " <keras.layers.core.Activation at 0x7f8b76e93a20>,\n",
       " <keras.layers.convolutional.Conv2D at 0x7f8b76e98668>,\n",
       " <keras.layers.normalization.BatchNormalization at 0x7f8b76e50da0>,\n",
       " <keras.layers.core.Activation at 0x7f8b76e572e8>,\n",
       " <keras.layers.convolutional.Conv2D at 0x7f8b76e60710>,\n",
       " <keras.layers.normalization.BatchNormalization at 0x7f8b76e18e10>,\n",
       " <keras.layers.merge.Add at 0x7f8b76e1f358>,\n",
       " <keras.layers.core.Activation at 0x7f8b76db4ac8>,\n",
       " <keras.layers.convolutional.Conv2D at 0x7f8b76db4c88>,\n",
       " <keras.layers.normalization.BatchNormalization at 0x7f8b76d65cf8>,\n",
       " <keras.layers.core.Activation at 0x7f8b76d6e4a8>,\n",
       " <keras.layers.convolutional.Conv2D at 0x7f8b76d740f0>,\n",
       " <keras.layers.normalization.BatchNormalization at 0x7f8b76d2b8d0>,\n",
       " <keras.layers.core.Activation at 0x7f8b76d2b860>,\n",
       " <keras.layers.convolutional.Conv2D at 0x7f8b76d3b160>,\n",
       " <keras.layers.convolutional.Conv2D at 0x7f8b76cf38d0>,\n",
       " <keras.layers.normalization.BatchNormalization at 0x7f8b76cf3940>,\n",
       " <keras.layers.normalization.BatchNormalization at 0x7f8b76cb9f60>,\n",
       " <keras.layers.merge.Add at 0x7f8b76cb9f98>,\n",
       " <keras.layers.core.Activation at 0x7f8b76cd49e8>,\n",
       " <keras.layers.convolutional.Conv2D at 0x7f8b76cd4ba8>,\n",
       " <keras.layers.normalization.BatchNormalization at 0x7f8b76c84f60>,\n",
       " <keras.layers.core.Activation at 0x7f8b76c8c400>,\n",
       " <keras.layers.convolutional.Conv2D at 0x7f8b76c942b0>,\n",
       " <keras.layers.normalization.BatchNormalization at 0x7f8b76c4c7f0>,\n",
       " <keras.layers.core.Activation at 0x7f8b76c4c780>,\n",
       " <keras.layers.convolutional.Conv2D at 0x7f8b76c5d080>,\n",
       " <keras.layers.normalization.BatchNormalization at 0x7f8b76c0d898>,\n",
       " <keras.layers.merge.Add at 0x7f8b76c0d828>,\n",
       " <keras.layers.core.Activation at 0x7f8b76ba7dd8>,\n",
       " <keras.layers.convolutional.Conv2D at 0x7f8b76badf60>,\n",
       " <keras.layers.normalization.BatchNormalization at 0x7f8b76bd8b00>,\n",
       " <keras.layers.core.Activation at 0x7f8b76bd8e10>,\n",
       " <keras.layers.convolutional.Conv2D at 0x7f8b76b90390>,\n",
       " <keras.layers.normalization.BatchNormalization at 0x7f8b76b9d2e8>,\n",
       " <keras.layers.core.Activation at 0x7f8b76b9d208>,\n",
       " <keras.layers.convolutional.Conv2D at 0x7f8b76b26eb8>,\n",
       " <keras.layers.normalization.BatchNormalization at 0x7f8b76b64320>,\n",
       " <keras.layers.merge.Add at 0x7f8b76b642b0>,\n",
       " <keras.layers.core.Activation at 0x7f8b76afcb70>,\n",
       " <keras.layers.pooling.GlobalAveragePooling2D at 0x7f8b76b09978>]"
      ]
     },
     "execution_count": 14,
     "metadata": {
      "tags": []
     },
     "output_type": "execute_result"
    }
   ],
   "source": [
    "model.layers[0].layers"
   ]
  },
  {
   "cell_type": "markdown",
   "metadata": {
    "button": false,
    "colab_type": "text",
    "id": "F_UQB4w2dkNZ",
    "new_sheet": false,
    "run_control": {
     "read_only": false
    }
   },
   "source": [
    "Since the ResNet50 model has already been trained, then tell the model not to bother with training the ResNet part, but to train only the dense output layer."
   ]
  },
  {
   "cell_type": "code",
   "execution_count": 0,
   "metadata": {
    "button": false,
    "colab": {},
    "colab_type": "code",
    "id": "3Jzsoqu9dkNZ",
    "new_sheet": false,
    "run_control": {
     "read_only": false
    }
   },
   "outputs": [],
   "source": [
    "model.layers[0].trainable = False"
   ]
  },
  {
   "cell_type": "code",
   "execution_count": 16,
   "metadata": {
    "button": false,
    "colab": {
     "base_uri": "https://localhost:8080/",
     "height": 218
    },
    "colab_type": "code",
    "id": "fZcQnqoydkNc",
    "new_sheet": false,
    "outputId": "b525a5fa-fc08-4cb8-8c80-9e65ac328366",
    "run_control": {
     "read_only": false
    }
   },
   "outputs": [
    {
     "name": "stdout",
     "output_type": "stream",
     "text": [
      "Model: \"sequential_1\"\n",
      "_________________________________________________________________\n",
      "Layer (type)                 Output Shape              Param #   \n",
      "=================================================================\n",
      "resnet50 (Model)             (None, 2048)              23587712  \n",
      "_________________________________________________________________\n",
      "dense_1 (Dense)              (None, 2)                 4098      \n",
      "=================================================================\n",
      "Total params: 23,591,810\n",
      "Trainable params: 4,098\n",
      "Non-trainable params: 23,587,712\n",
      "_________________________________________________________________\n"
     ]
    }
   ],
   "source": [
    "model.summary()"
   ]
  },
  {
   "cell_type": "markdown",
   "metadata": {
    "button": false,
    "colab_type": "text",
    "id": "3rZKF38hdkNd",
    "new_sheet": false,
    "run_control": {
     "read_only": false
    }
   },
   "source": [
    "Compile the model using the **adam** optimizer."
   ]
  },
  {
   "cell_type": "code",
   "execution_count": 17,
   "metadata": {
    "button": false,
    "colab": {
     "base_uri": "https://localhost:8080/",
     "height": 104
    },
    "colab_type": "code",
    "id": "MGlQN2HHdkNe",
    "new_sheet": false,
    "outputId": "9970f281-a2a0-4fbd-a028-5999dbb88d12",
    "run_control": {
     "read_only": false
    }
   },
   "outputs": [
    {
     "name": "stdout",
     "output_type": "stream",
     "text": [
      "WARNING:tensorflow:From /usr/local/lib/python3.6/dist-packages/keras/optimizers.py:793: The name tf.train.Optimizer is deprecated. Please use tf.compat.v1.train.Optimizer instead.\n",
      "\n",
      "WARNING:tensorflow:From /usr/local/lib/python3.6/dist-packages/keras/backend/tensorflow_backend.py:3576: The name tf.log is deprecated. Please use tf.math.log instead.\n",
      "\n"
     ]
    }
   ],
   "source": [
    "model.compile(optimizer='adam', loss='categorical_crossentropy', metrics=['accuracy'])"
   ]
  },
  {
   "cell_type": "markdown",
   "metadata": {
    "button": false,
    "colab_type": "text",
    "id": "5idGIP-tdkNg",
    "new_sheet": false,
    "run_control": {
     "read_only": false
    }
   },
   "source": [
    "Define steps and epochs"
   ]
  },
  {
   "cell_type": "code",
   "execution_count": 0,
   "metadata": {
    "button": false,
    "colab": {},
    "colab_type": "code",
    "id": "5fX16RmVdkNh",
    "new_sheet": false,
    "run_control": {
     "read_only": false
    }
   },
   "outputs": [],
   "source": [
    "steps_per_epoch_training = len(train_generator)\n",
    "steps_per_epoch_validation = len(validation_generator)\n",
    "num_epochs = 2"
   ]
  },
  {
   "cell_type": "markdown",
   "metadata": {
    "button": false,
    "colab_type": "text",
    "id": "kHC9m-OEdkNk",
    "new_sheet": false,
    "run_control": {
     "read_only": false
    }
   },
   "source": [
    "Train the model"
   ]
  },
  {
   "cell_type": "code",
   "execution_count": 19,
   "metadata": {
    "button": false,
    "colab": {
     "base_uri": "https://localhost:8080/",
     "height": 222
    },
    "colab_type": "code",
    "id": "ofa3_Z6TdkNl",
    "new_sheet": false,
    "outputId": "acfd0773-76dc-4d36-bed8-9f6498981f04",
    "run_control": {
     "read_only": false
    }
   },
   "outputs": [
    {
     "name": "stdout",
     "output_type": "stream",
     "text": [
      "WARNING:tensorflow:From /usr/local/lib/python3.6/dist-packages/tensorflow_core/python/ops/math_grad.py:1424: where (from tensorflow.python.ops.array_ops) is deprecated and will be removed in a future version.\n",
      "Instructions for updating:\n",
      "Use tf.where in 2.0, which has the same broadcast rule as np.where\n",
      "WARNING:tensorflow:From /usr/local/lib/python3.6/dist-packages/keras/backend/tensorflow_backend.py:1033: The name tf.assign_add is deprecated. Please use tf.compat.v1.assign_add instead.\n",
      "\n",
      "WARNING:tensorflow:From /usr/local/lib/python3.6/dist-packages/keras/backend/tensorflow_backend.py:1020: The name tf.assign is deprecated. Please use tf.compat.v1.assign instead.\n",
      "\n",
      "Epoch 1/2\n",
      "301/301 [==============================] - 205s 680ms/step - loss: 0.0507 - acc: 0.9812 - val_loss: 0.2429 - val_acc: 0.9025\n",
      "Epoch 2/2\n",
      "301/301 [==============================] - 195s 647ms/step - loss: 0.0151 - acc: 0.9964 - val_loss: 0.2078 - val_acc: 0.9188\n"
     ]
    }
   ],
   "source": [
    "fit_history = model.fit_generator(\n",
    "    train_generator,\n",
    "    steps_per_epoch=steps_per_epoch_training,\n",
    "    epochs=num_epochs,\n",
    "    validation_data=validation_generator,\n",
    "    validation_steps=steps_per_epoch_validation,\n",
    "    verbose=1,\n",
    ")"
   ]
  },
  {
   "cell_type": "markdown",
   "metadata": {
    "button": false,
    "colab_type": "text",
    "id": "6_JHuFgxdkNp",
    "new_sheet": false,
    "run_control": {
     "read_only": false
    }
   },
   "source": [
    "Save the model"
   ]
  },
  {
   "cell_type": "code",
   "execution_count": 0,
   "metadata": {
    "button": false,
    "colab": {},
    "colab_type": "code",
    "id": "nNIKl8Z3dkNq",
    "jupyter": {
     "outputs_hidden": true
    },
    "new_sheet": false,
    "run_control": {
     "read_only": false
    }
   },
   "outputs": [],
   "source": [
    "model.save('classifier_resnet_model.h5')"
   ]
  },
  {
   "cell_type": "markdown",
   "metadata": {
    "button": false,
    "colab_type": "text",
    "id": "GIYNxmC-dkNu",
    "new_sheet": false,
    "run_control": {
     "read_only": false
    }
   },
   "source": [
    "<hr>\n",
    "\n",
    "Copyright &copy; 2020 [IBM Developer Skills Network](https://cognitiveclass.ai/?utm_source=bducopyrightlink&utm_medium=dswb&utm_campaign=bdu). This notebook and its source code are released under the terms of the [MIT License](https://bigdatauniversity.com/mit-license/)."
   ]
  }
 ],
 "metadata": {
  "accelerator": "GPU",
  "colab": {
   "name": "week 3.ipynb",
   "provenance": []
  },
  "kernelspec": {
   "display_name": "Python 3",
   "language": "python",
   "name": "python3"
  },
  "language_info": {
   "codemirror_mode": {
    "name": "ipython",
    "version": 3
   },
   "file_extension": ".py",
   "mimetype": "text/x-python",
   "name": "python",
   "nbconvert_exporter": "python",
   "pygments_lexer": "ipython3",
   "version": "3.7.3"
  },
  "toc": {
   "base_numbering": 1,
   "nav_menu": {},
   "number_sections": false,
   "sideBar": false,
   "skip_h1_title": false,
   "title_cell": "Table of Contents",
   "title_sidebar": "Contents",
   "toc_cell": false,
   "toc_position": {},
   "toc_section_display": false,
   "toc_window_display": false
  }
 },
 "nbformat": 4,
 "nbformat_minor": 1
}
